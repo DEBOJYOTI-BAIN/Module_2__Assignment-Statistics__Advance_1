{
  "nbformat": 4,
  "nbformat_minor": 0,
  "metadata": {
    "colab": {
      "provenance": []
    },
    "kernelspec": {
      "name": "python3",
      "display_name": "Python 3"
    },
    "language_info": {
      "name": "python"
    }
  },
  "cells": [
    {
      "cell_type": "markdown",
      "source": [
        "#Statistics Advanced - 1| Assignment\n",
        "\n",
        "1.  What is a random variable in probability theory?\n",
        "  - A random variable is a function that maps outcomes of a random experiment to numerical values. It allows us to quantify uncertainty.\n",
        "\n",
        "  - Example: Tossing a fair coin twice; let\n",
        "𝑋\n",
        "X be the number of heads. Then\n",
        "𝑋\n",
        "∈\n",
        "{\n",
        "0\n",
        ",\n",
        "1\n",
        ",\n",
        "2\n",
        "}\n",
        "X∈{0,1,2}.\n",
        "\n",
        "2.  What are the types of random variables?\n",
        "  - Discrete random variable — takes countable values (finite or countably infinite). Examples: number of defects, number of website clicks.\n",
        "\n",
        "  - Continuous random variable — takes values over a continuum (intervals of real numbers). Examples: height, weight, time to failure.\n",
        "\n",
        "3. Explain the difference between discrete and continuous distributions.\n",
        "  - Discrete distribution: Probability mass function (pmf) 𝑃(𝑋=𝑥) assigns probability to individual points. Cumulative probabilities are sums. Example: Binomial, Poisson.\n",
        "\n",
        "  - Continuous distribution: Probability density function (pdf) 𝑓(𝑥) satisfies 𝑃(𝑎≤𝑋≤𝑏)=∫ₐᵇ f(x) dx. Probability at a single point is zero; only intervals have positive probability. Example: Normal, Exponential.\n",
        "\n",
        "4. What is a binomial distribution, and how is it used in probability?\n",
        "  - A Binomial(𝑛,𝑝) distribution models the number of successes in 𝑛 independent Bernoulli trials where each trial has success probability 𝑝.\n",
        "\n",
        "    - pmf: 𝑃(𝑋=𝑘)=(𝑛𝑘)𝑝^𝑘(1−𝑝)^(𝑛−𝑘)\n",
        "     for 𝑘=0,…,𝑛.\n",
        "\n",
        "    - Mean =𝑛𝑝; Variance =𝑛𝑝(1−𝑝).\n",
        "\n",
        "    - Use cases: number of defective items in a batch, number of conversions in 𝑛 ad impressions.\n",
        "\n",
        "5.  What is the standard normal distribution, and why is it important?\n",
        "  - The standard normal is a Normal distribution with mean 0 and standard deviation 1: 𝑍∼𝑁(0,1).\n",
        "  \n",
        "  - It’s important because:\n",
        "\n",
        "    - Any normal variable can be standardized to 𝑍=(𝑋−𝜇)/𝜎.\n",
        "    - Tables for 𝑍 enable tail probability and quantile calculations for many procedures (z-tests, confidence intervals, etc.).\n",
        "\n",
        "6. What is the Central Limit Theorem (CLT), and why is it critical in statistics?\n",
        "  - The CLT states that, for i.i.d. observations with finite mean 𝜇 and variance 𝜎^2, the distribution of the sample mean X̄ approaches Normal(𝜇,𝜎^2/𝑛) as sample size 𝑛 grows — regardless of the parent distribution’s shape.\n",
        "  - Why critical: It justifies using normal-based inference (e.g., confidence intervals and hypothesis tests) for sample means even when the underlying data are not normal, especially for moderate/large 𝑛.\n",
        "\n",
        "7.  What is the significance of confidence intervals in statistical analysis?\n",
        "  - A confidence interval (CI) gives a range of plausible values for an unknown parameter (e.g., mean) derived from sample data. A 95% CI means that, in repeated sampling under the same procedure, 95% of such intervals would contain the true parameter. CIs communicate both estimate and uncertainty.\n",
        "\n",
        "\n",
        "8.  What is the concept of expected value in a probability distribution?\n",
        "\n",
        "  - The expected value 𝐸[𝑋] is the long-run average of a random variable.\n",
        "\n",
        "    - Discrete: 𝐸[𝑋]=∑𝑥𝑃(𝑋=𝑥)\n",
        "    - Continuous: 𝐸[𝑋]=∫−∞ to +∞ 𝑥𝑓(𝑥)𝑑𝑥\n",
        "  - It summarizes the “center of mass” of the distribution and is fundamental to decisions, risk, and optimization."
      ],
      "metadata": {
        "id": "Fl71N7HmZVcf"
      }
    },
    {
      "cell_type": "code",
      "source": [
        "#Q9. Write a Python program to generate 1000 random numbers from a normal distribution with mean = 50 and standard deviation = 5. Compute its mean and standard\n",
        "#deviation using NumPy, and draw a histogram to visualize the distribution.\n",
        "\n",
        "import numpy as np\n",
        "import matplotlib.pyplot as plt\n",
        "\n",
        "\n",
        "np.random.seed(42)\n",
        "\n",
        "\n",
        "data = np.random.normal(loc=50, scale=5, size=1000)\n",
        "\n",
        "\n",
        "mean_val = np.mean(data)\n",
        "std_val = np.std(data, ddof=1)\n",
        "\n",
        "print(\"Mean of generated data:\", mean_val)\n",
        "print(\"Standard Deviation of generated data:\", std_val)\n",
        "\n",
        "\n",
        "plt.hist(data, bins=30, edgecolor='black')\n",
        "plt.title(\"Histogram of Generated Normal Distribution\")\n",
        "plt.xlabel(\"Values\")\n",
        "plt.ylabel(\"Frequency\")\n",
        "plt.grid(axis='y', linestyle='--', alpha=0.7)\n",
        "plt.show()\n"
      ],
      "metadata": {
        "colab": {
          "base_uri": "https://localhost:8080/",
          "height": 507
        },
        "id": "FFS5XifmmSY4",
        "outputId": "c2a45b10-566c-4a57-9c48-41377e5c2eb4"
      },
      "execution_count": 2,
      "outputs": [
        {
          "output_type": "stream",
          "name": "stdout",
          "text": [
            "Mean of generated data: 50.096660279111624\n",
            "Standard Deviation of generated data: 4.896079690898378\n"
          ]
        },
        {
          "output_type": "display_data",
          "data": {
            "text/plain": [
              "<Figure size 640x480 with 1 Axes>"
            ],
            "image/png": "[encoded data removed]"
          },
          "metadata": {}
        }
      ]
    },
    {
      "cell_type": "code",
      "source": [
        "#Q10. You are working as a data analyst for a retail company. The company has collected daily sales data for 2 years and wants you to identify the overall sales trend.\n",
        "#daily_sales = [220, 245, 210, 265, 230, 250, 260, 275, 240, 255, 235, 260, 245, 250, 225, 270, 265, 255, 250, 260]\n",
        "#● Explain how you would apply the Central Limit Theorem to estimate the average sales with a 95% confidence interval.\n",
        "\n",
        "#Treat the daily sales as independent and identically distributed (i.i.d.) with mean = μ (population mean) and variance = σ² (population variance).\n",
        "\n",
        "#By CLT, the sample mean (x̄) follows approximately a Normal distribution:\n",
        "#Mean = μ\n",
        "#Standard error = σ / √n\n",
        "\n",
        "#Since we do not know the population standard deviation, we estimate it using the sample standard deviation (s).\n",
        "\n",
        "# For a sample size n = 20 (moderate size), use the t-distribution instead of z-distribution.\n",
        "\n",
        "# The formula for the 95% confidence interval is:\n",
        "\n",
        "# x̄ ± t * (s / √n)\n",
        "\n",
        "# where:\n",
        "\n",
        "# x̄ = sample mean\n",
        "\n",
        "# s = sample standard deviation\n",
        "\n",
        "# n = sample size\n",
        "\n",
        "# t = t-critical value for 95% confidence with df = n – 1\n",
        "\n",
        "# Compute x̄, s, t, and plug them into the formula.\n",
        "\n",
        "\n",
        "\n",
        "\n",
        "\n",
        "#● Write the Python code to compute the mean sales and its confidence interval.\n",
        "\n",
        "import numpy as np\n",
        "from scipy import stats\n",
        "import math\n",
        "\n",
        "# Daily sales data\n",
        "daily_sales = [220, 245, 210, 265, 230, 250, 260, 275, 240, 255,\n",
        "               235, 260, 245, 250, 225, 270, 265, 255, 250, 260]\n",
        "\n",
        "# Calculate sample mean and standard deviation\n",
        "n = len(daily_sales)\n",
        "mean_sales = np.mean(daily_sales)\n",
        "std_sales = np.std(daily_sales, ddof=1)  # sample std deviation\n",
        "\n",
        "# t-critical value for 95% confidence (two-tailed)\n",
        "t_crit = stats.t.ppf(0.975, df=n-1)\n",
        "\n",
        "# Margin of error\n",
        "margin = t_crit * (std_sales / math.sqrt(n))\n",
        "\n",
        "# Confidence interval\n",
        "ci_lower = mean_sales - margin\n",
        "ci_upper = mean_sales + margin\n",
        "\n",
        "print(f\"Sample Mean: {mean_sales}\")\n",
        "print(f\"Sample Standard Deviation: {std_sales}\")\n",
        "print(f\"t-critical (df={n-1}): {t_crit}\")\n",
        "print(f\"95% Confidence Interval for mean sales: [{ci_lower}, {ci_upper}]\")\n"
      ],
      "metadata": {
        "colab": {
          "base_uri": "https://localhost:8080/"
        },
        "id": "AZjZCE6lm0sr",
        "outputId": "55f12e1d-9034-456e-a62b-f19539afa7f0"
      },
      "execution_count": 3,
      "outputs": [
        {
          "output_type": "stream",
          "name": "stdout",
          "text": [
            "Sample Mean: 248.25\n",
            "Sample Standard Deviation: 17.26534405284638\n",
            "t-critical (df=19): 2.093024054408263\n",
            "95% Confidence Interval for mean sales: [240.16957025147158, 256.3304297485284]\n"
          ]
        }
      ]
    }
  ]
}